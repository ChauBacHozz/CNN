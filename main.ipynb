{
 "cells": [
  {
   "cell_type": "code",
   "execution_count": 1,
   "metadata": {},
   "outputs": [],
   "source": [
    "from build import CppModule\n",
    "import numpy as np\n",
    "import timeit\n",
    "\n"
   ]
  },
  {
   "cell_type": "code",
   "execution_count": 2,
   "metadata": {},
   "outputs": [],
   "source": [
    "\n",
    "def convolution(img_matrix, filter, conv_stride = 1):\n",
    "    conv = np.zeros((1, (img_matrix.shape[1] - filter.shape[1])//conv_stride + 1))\n",
    "    for i in range(0,img_matrix.shape[0] - filter.shape[0] + 1, conv_stride):\n",
    "        row = np.array([])\n",
    "        for k in range(0,img_matrix.shape[1] - filter.shape[1] + 1, conv_stride):\n",
    "            res = np.sum(img_matrix[i : i + filter.shape[0], k : k + filter.shape[1]] * filter)\n",
    "            row = np.append(row, res).reshape(1, -1)\n",
    "        conv = np.vstack((conv, row))\n",
    "    conv = conv[1:,:]\n",
    "    return conv\n"
   ]
  },
  {
   "cell_type": "code",
   "execution_count": 3,
   "metadata": {},
   "outputs": [],
   "source": [
    "def Z_convolution(X, K):\n",
    "    kernel_size = K.shape[-1]\n",
    "    output = np.zeros((X.shape[0], K.shape[0],X.shape[2] - kernel_size + 1, X.shape[3] - kernel_size + 1))\n",
    "    for i in range (X.shape[0]):\n",
    "        for j in range (K.shape[0]):\n",
    "            sum = 0\n",
    "            for k in range (X.shape[1]):    \n",
    "                sum += convolution(X[i][k],K[j][k])\n",
    "            output[i][j] = sum \n",
    "\n",
    "    return output"
   ]
  },
  {
   "cell_type": "code",
   "execution_count": 4,
   "metadata": {},
   "outputs": [],
   "source": [
    "def conv_3d(input, kernel, kernel_size, n_kernels):\n",
    "    output = np.zeros((n_kernels, input.shape[0], input.shape[1] - kernel_size + 1, input.shape[2] - kernel_size + 1))\n",
    "    for i in range (n_kernels):\n",
    "        for k in range(input.shape[0]):\n",
    "            output[i][k]= convolution(input[k], kernel[i])\n",
    "    return output"
   ]
  },
  {
   "cell_type": "code",
   "execution_count": 5,
   "metadata": {},
   "outputs": [],
   "source": [
    "def convolution(img_matrix, filter, conv_stride = 1):\n",
    "    conv = np.zeros((1, (img_matrix.shape[1] - filter.shape[1])//conv_stride + 1))\n",
    "    for i in range(0,img_matrix.shape[0] - filter.shape[0] + 1, conv_stride):\n",
    "        row = np.array([])\n",
    "        for k in range(0,img_matrix.shape[1] - filter.shape[1] + 1, conv_stride):\n",
    "            res = np.sum(img_matrix[i : i + filter.shape[0], k : k + filter.shape[1]] * filter)\n",
    "            row = np.append(row, res).reshape(1, -1)\n",
    "        conv = np.vstack((conv, row))\n",
    "    conv = conv[1:,:]\n",
    "    return conv\n",
    "def padded(matrix, n_pads = 1):\n",
    "    res = np.zeros((matrix.shape[0] + n_pads * 2, matrix.shape[1] + n_pads * 2))\n",
    "    res[n_pads : res.shape[0] - n_pads, n_pads : res.shape[1] - n_pads] = matrix\n",
    "    return res\n",
    "def dX_convolution(dZ, K):\n",
    "    kernel_size = K.shape[-1]\n",
    "    dX = np.zeros((dZ.shape[0], K.shape[1],dZ.shape[2] + kernel_size - 1, dZ.shape[3] + kernel_size - 1))\n",
    "    for i in range (dZ.shape[0]):\n",
    "        for j in range (K.shape[0]):\n",
    "            for k in range (K.shape[1]):\n",
    "                dX[i][k] = convolution(padded(dZ[i][j], n_pads=kernel_size - 1),np.rot90(K[j][k], 2))\n",
    "    return dX"
   ]
  },
  {
   "cell_type": "code",
   "execution_count": 6,
   "metadata": {},
   "outputs": [],
   "source": [
    "dZ = np.ones((10,5, 28,28))\n",
    "K = np.ones((5,3,3,3))"
   ]
  },
  {
   "cell_type": "code",
   "execution_count": 7,
   "metadata": {},
   "outputs": [
    {
     "name": "stdout",
     "output_type": "stream",
     "text": [
      "C++ code executed in 3.166604351999922\n"
     ]
    }
   ],
   "source": [
    "\n",
    "start = timeit.default_timer()\n",
    "\n",
    "# All the program statements\n",
    "CppModule.dX_convolution(K, dZ)\n",
    "stop = timeit.default_timer()\n",
    "execution_time = stop - start\n",
    "\n",
    "print(\"C++ code executed in \"+str(execution_time))"
   ]
  },
  {
   "cell_type": "code",
   "execution_count": 8,
   "metadata": {},
   "outputs": [],
   "source": [
    "# CppModule.Z_convolution(X, K)"
   ]
  },
  {
   "cell_type": "code",
   "execution_count": 9,
   "metadata": {},
   "outputs": [
    {
     "name": "stdout",
     "output_type": "stream",
     "text": [
      "Python code executed in 4.304706430000124\n"
     ]
    }
   ],
   "source": [
    "start = timeit.default_timer()\n",
    "\n",
    "# All the program statements\n",
    "dX_convolution(dZ, K)\n",
    "stop = timeit.default_timer()\n",
    "execution_time = stop - start\n",
    "\n",
    "print(\"Python code executed in \"+str(execution_time))"
   ]
  },
  {
   "cell_type": "code",
   "execution_count": null,
   "metadata": {},
   "outputs": [],
   "source": [
    "\n"
   ]
  },
  {
   "cell_type": "code",
   "execution_count": null,
   "metadata": {},
   "outputs": [],
   "source": []
  }
 ],
 "metadata": {
  "kernelspec": {
   "display_name": "Python 3",
   "language": "python",
   "name": "python3"
  },
  "language_info": {
   "codemirror_mode": {
    "name": "ipython",
    "version": 3
   },
   "file_extension": ".py",
   "mimetype": "text/x-python",
   "name": "python",
   "nbconvert_exporter": "python",
   "pygments_lexer": "ipython3",
   "version": "3.8.8"
  },
  "orig_nbformat": 4
 },
 "nbformat": 4,
 "nbformat_minor": 2
}
