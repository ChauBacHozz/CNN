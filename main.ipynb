{
 "cells": [
  {
   "cell_type": "code",
   "execution_count": 1,
   "metadata": {},
   "outputs": [],
   "source": [
    "from build import CppModule\n",
    "import numpy as np\n",
    "import timeit\n",
    "\n"
   ]
  },
  {
   "cell_type": "code",
   "execution_count": 2,
   "metadata": {},
   "outputs": [],
   "source": [
    "\n",
    "def convolution(img_matrix, filter, conv_stride = 1):\n",
    "    conv = np.zeros((1, (img_matrix.shape[1] - filter.shape[1])//conv_stride + 1))\n",
    "    for i in range(0,img_matrix.shape[0] - filter.shape[0] + 1, conv_stride):\n",
    "        row = np.array([])\n",
    "        for k in range(0,img_matrix.shape[1] - filter.shape[1] + 1, conv_stride):\n",
    "            res = np.sum(img_matrix[i : i + filter.shape[0], k : k + filter.shape[1]] * filter)\n",
    "            row = np.append(row, res).reshape(1, -1)\n",
    "        conv = np.vstack((conv, row))\n",
    "    conv = conv[1:,:]\n",
    "    return conv\n"
   ]
  },
  {
   "cell_type": "code",
   "execution_count": 3,
   "metadata": {},
   "outputs": [],
   "source": [
    "def Z_convolution(X, K):\n",
    "    kernel_size = K.shape[-1]\n",
    "    output = np.zeros((X.shape[0], K.shape[0],X.shape[2] - kernel_size + 1, X.shape[3] - kernel_size + 1))\n",
    "    for i in range (X.shape[0]):\n",
    "        for j in range (K.shape[0]):\n",
    "            sum = 0\n",
    "            for k in range (X.shape[1]):    \n",
    "                sum += convolution(X[i][k],K[j][k])\n",
    "            output[i][j] = sum \n",
    "\n",
    "    return output"
   ]
  },
  {
   "cell_type": "code",
   "execution_count": 4,
   "metadata": {},
   "outputs": [],
   "source": [
    "def conv_3d(input, kernel, kernel_size, n_kernels):\n",
    "    output = np.zeros((n_kernels, input.shape[0], input.shape[1] - kernel_size + 1, input.shape[2] - kernel_size + 1))\n",
    "    for i in range (n_kernels):\n",
    "        for k in range(input.shape[0]):\n",
    "            output[i][k]= convolution(input[k], kernel[i])\n",
    "    return output"
   ]
  },
  {
   "cell_type": "code",
   "execution_count": 5,
   "metadata": {},
   "outputs": [],
   "source": [
    "def convolution(img_matrix, filter, conv_stride = 1):\n",
    "    conv = np.zeros((1, (img_matrix.shape[1] - filter.shape[1])//conv_stride + 1))\n",
    "    for i in range(0,img_matrix.shape[0] - filter.shape[0] + 1, conv_stride):\n",
    "        row = np.array([])\n",
    "        for k in range(0,img_matrix.shape[1] - filter.shape[1] + 1, conv_stride):\n",
    "            res = np.sum(img_matrix[i : i + filter.shape[0], k : k + filter.shape[1]] * filter)\n",
    "            row = np.append(row, res).reshape(1, -1)\n",
    "        conv = np.vstack((conv, row))\n",
    "    conv = conv[1:,:]\n",
    "    return conv\n",
    "def padded(matrix, n_pads = 1):\n",
    "    res = np.zeros((matrix.shape[0] + n_pads * 2, matrix.shape[1] + n_pads * 2))\n",
    "    res[n_pads : res.shape[0] - n_pads, n_pads : res.shape[1] - n_pads] = matrix\n",
    "    return res\n",
    "def dX_convolution(dZ, K):\n",
    "    kernel_size = K.shape[-1]\n",
    "    dX = np.zeros((dZ.shape[0], K.shape[1],dZ.shape[2] + kernel_size - 1, dZ.shape[3] + kernel_size - 1))\n",
    "    for i in range (dZ.shape[0]):\n",
    "        for j in range (K.shape[0]):\n",
    "            for k in range (K.shape[1]):\n",
    "                dX[i][k] = convolution(padded(dZ[i][j], n_pads=kernel_size - 1),np.rot90(K[j][k], 2))\n",
    "    return dX"
   ]
  },
  {
   "cell_type": "code",
   "execution_count": 6,
   "metadata": {},
   "outputs": [],
   "source": [
    "def max_pooling(input, pool_size = 2):\n",
    "    pool_stride = pool_size\n",
    "    conv2 = np.zeros((1, (input.shape[1] - pool_size)//pool_stride + 1))\n",
    "    for i in range(0,input.shape[0] - pool_size + 1, pool_stride):\n",
    "        row = np.array([])\n",
    "        for k in range(0,input.shape[1] - pool_size + 1, pool_stride):\n",
    "            res = np.max(input[i : i + pool_size,k : k + pool_size])\n",
    "            row = np.append(row, res).reshape(1, -1)\n",
    "        conv2 = np.vstack((conv2, row))\n",
    "    conv2 = conv2[1:,:]\n",
    "    return conv2"
   ]
  },
  {
   "cell_type": "code",
   "execution_count": 7,
   "metadata": {},
   "outputs": [],
   "source": [
    "dZ = np.ones((10,5, 28,28))\n",
    "K = np.ones((5,3,3,3))\n",
    "input = np.array([[ 5,  1,  20,  30],\n",
    "                     [ 4,  20,  40,  7],\n",
    "                     [ 80,  9, 10, 11],\n",
    "                     [12, 8, 140, 15]])\n",
    "dP = np.array([[1,2], [3,4]])"
   ]
  },
  {
   "cell_type": "code",
   "execution_count": 11,
   "metadata": {},
   "outputs": [
    {
     "name": "stdout",
     "output_type": "stream",
     "text": [
      "[[ 7.5  24.25]\n",
      " [27.25 44.  ]]\n",
      "[[0.25 0.25 0.5  0.5 ]\n",
      " [0.25 0.25 0.5  0.5 ]\n",
      " [0.75 0.75 1.   1.  ]\n",
      " [0.75 0.75 1.   1.  ]]\n",
      "C++ code executed in 0.0028791959994123317\n"
     ]
    }
   ],
   "source": [
    "\n",
    "start = timeit.default_timer()\n",
    "# All the program statements\n",
    "P = CppModule.avg_pooling(input, 2)\n",
    "print(P)\n",
    "print(CppModule.avgpool_de(input, dP, 2))\n",
    "stop = timeit.default_timer()\n",
    "execution_time = stop - start\n",
    "\n",
    "print(\"C++ code executed in \"+str(execution_time))"
   ]
  },
  {
   "cell_type": "code",
   "execution_count": 9,
   "metadata": {},
   "outputs": [],
   "source": [
    "# CppModule.Z_convolution(X, K)"
   ]
  },
  {
   "cell_type": "code",
   "execution_count": 10,
   "metadata": {},
   "outputs": [
    {
     "name": "stdout",
     "output_type": "stream",
     "text": [
      "[[140.]]\n",
      "Python code executed in 0.003856982999423053\n"
     ]
    }
   ],
   "source": [
    "start = timeit.default_timer()\n",
    "\n",
    "# All the program statements\n",
    "print(max_pooling(input, 4))\n",
    "stop = timeit.default_timer()\n",
    "execution_time = stop - start\n",
    "\n",
    "print(\"Python code executed in \"+str(execution_time))"
   ]
  },
  {
   "cell_type": "code",
   "execution_count": null,
   "metadata": {},
   "outputs": [],
   "source": [
    "\n"
   ]
  },
  {
   "cell_type": "code",
   "execution_count": null,
   "metadata": {},
   "outputs": [],
   "source": []
  }
 ],
 "metadata": {
  "kernelspec": {
   "display_name": "Python 3",
   "language": "python",
   "name": "python3"
  },
  "language_info": {
   "codemirror_mode": {
    "name": "ipython",
    "version": 3
   },
   "file_extension": ".py",
   "mimetype": "text/x-python",
   "name": "python",
   "nbconvert_exporter": "python",
   "pygments_lexer": "ipython3",
   "version": "3.8.8"
  },
  "orig_nbformat": 4
 },
 "nbformat": 4,
 "nbformat_minor": 2
}
